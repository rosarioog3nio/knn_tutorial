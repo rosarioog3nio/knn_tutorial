{
 "cells": [
  {
   "cell_type": "markdown",
   "metadata": {},
   "source": [
    "# KNN Tutorial"
   ]
  },
  {
   "cell_type": "markdown",
   "metadata": {},
   "source": [
    "For the tutorial we are going to use the car dataset from the UCI Machine Learling Repository wich can be found by following the link: https://archive.ics.uci.edu/ml/datasets/automobile"
   ]
  },
  {
   "cell_type": "markdown",
   "metadata": {},
   "source": [
    "To begin, we will import all the libraries we are going to use wich are: numpy, pandas and SK-learn (Scikit-Learn)"
   ]
  },
  {
   "cell_type": "code",
   "execution_count": 5,
   "metadata": {},
   "outputs": [],
   "source": [
    "import numpy as np\n",
    "import pandas as pd\n",
    "from sklearn import neighbors, metrics\n",
    "from sklearn.model_selection import train_test_split\n",
    "from sklearn.preprocessing import LabelEncoder"
   ]
  },
  {
   "cell_type": "markdown",
   "metadata": {},
   "source": [
    "After importing the libs, we are going to import our dataset using the pd.read_csv() function then,\n",
    "inspect our data using the head() funtion to print the first 5 rows of our dataset. Both function are from pandas lib."
   ]
  },
  {
   "cell_type": "code",
   "execution_count": 13,
   "metadata": {},
   "outputs": [
    {
     "name": "stdout",
     "output_type": "stream",
     "text": [
      "  buying  maint door persons lug_boot safety  class\n",
      "0  vhigh  vhigh    2       2    small    low  unacc\n",
      "1  vhigh  vhigh    2       2    small    med  unacc\n",
      "2  vhigh  vhigh    2       2    small   high  unacc\n",
      "3  vhigh  vhigh    2       2      med    low  unacc\n",
      "4  vhigh  vhigh    2       2      med    med  unacc\n"
     ]
    }
   ],
   "source": [
    "df = pd.read_csv('/home/mr-g3tl3m4n/Documents/DataSets/datasets/Car-Data-Set/car.csv')\n",
    "\n",
    "print(df.head())"
   ]
  },
  {
   "cell_type": "markdown",
   "metadata": {},
   "source": [
    "Being this a KNN problem, we have to identify and define our our features and label.\n",
    "The Features are our input data and labels are the outputs, what we want to predict, in other words the thing, using the inputs or, the features. to know more about features and labels you can THIS ARTICLE, follow THIS link\n",
    "to know more about KNN in a theorical perspective and follow some of the links ate the and of the current blog.\n",
    "\n",
    "For this particular problem, we are going to use 3 features from our dataset wich are: 'buying', 'maint', 'safety'. We are going to create a python list using thoses elements from the dataset.\n",
    "The label is going to be the 'class' column from our dataset.\n"
   ]
  },
  {
   "cell_type": "code",
   "execution_count": 21,
   "metadata": {},
   "outputs": [
    {
     "name": "stdout",
     "output_type": "stream",
     "text": [
      "FEATURES:\n",
      " [['vhigh' 'vhigh' 'low']\n",
      " ['vhigh' 'vhigh' 'med']\n",
      " ['vhigh' 'vhigh' 'high']\n",
      " ...\n",
      " ['low' 'low' 'low']\n",
      " ['low' 'low' 'med']\n",
      " ['low' 'low' 'high']]\n",
      "LABELS:\n",
      " 0       unacc\n",
      "1       unacc\n",
      "2       unacc\n",
      "3       unacc\n",
      "4       unacc\n",
      "        ...  \n",
      "1723     good\n",
      "1724    vgood\n",
      "1725    unacc\n",
      "1726     good\n",
      "1727    vgood\n",
      "Name: class, Length: 1728, dtype: object\n"
     ]
    }
   ],
   "source": [
    "X = df[['buying', 'maint', 'safety']].values\n",
    "print('FEATURES:\\n', X)\n",
    "\n",
    "y = df['class']\n",
    "print('LABELS:\\n', y)"
   ]
  },
  {
   "cell_type": "markdown",
   "metadata": {},
   "source": [
    "After creating the features and the labels, considering tha an computer does't understand any human language, we have to make a small convertion of the features and the labels to a numerical notation so the computer can understand them, using the following code"
   ]
  },
  {
   "cell_type": "code",
   "execution_count": 26,
   "metadata": {},
   "outputs": [],
   "source": [
    "#features\n",
    "X = df[['buying', 'maint', 'safety']].values\n",
    "#print('FEATURES', X)\n",
    "\n",
    "y = df['class']\n",
    "#print(\"LABELS:\\n\", y)\n",
    "\n",
    "#Converting X to a numerical notation\n",
    "Le = LabelEncoder()\n",
    "for i in range(len(X[0])):\n",
    "    X[:, i] = Le.fit_transform(X[:, i])\n",
    "\n",
    "#print('Converted X\\n:', X)\n",
    "\n",
    "\n",
    "#converting y to a numerical notation\n",
    "label_mapping = {'unacc':0, 'acc':1, 'good':2, 'vgood':3}\n",
    "\n",
    "y = y.map(label_mapping)\n",
    "y = np.array(y)\n",
    "\n",
    "#print('Converted y:\\n',y)"
   ]
  },
  {
   "cell_type": "markdown",
   "metadata": {},
   "source": [
    "And finally, after preparing all the data, we are going to make the prediction model and test its accuracy.\n",
    "We will use the neighbors.KNeighborsClassifier() function from th Sk-Learn lib and give 2 two argumewnts to it.\n",
    "The first one will be the K values wich is the distance between the Neighbors and the weights, wich is the way our predictive model  with handle all the datapoints.\n",
    "\n",
    "After that, we are going to split the data into traing and testing data, both for the features and the labels. The training data is used to make the model learn from  features of the dataset and know to wich class the combination of thoses features belong to and, the testing data is used to find out to wich point the model learned and what is the level of accuracy of the preditions the model is going to make.\n",
    "\n",
    "This process is done by comparing the actual data with the results of the preditions made by the model.\n",
    "\n",
    "The taining data is generated by selecting ramdomly a small porcentage of the data, for this example, we are going to uso 20% of the data for the test process and, 80% for the traing.\n"
   ]
  },
  {
   "cell_type": "code",
   "execution_count": 27,
   "metadata": {},
   "outputs": [
    {
     "name": "stdout",
     "output_type": "stream",
     "text": [
      "[0 2 1 1 0 1 0 1 0 0 0 0 1 0 0 3 2 0 1 3 2 0 1 0 1 3 3 0 0 2 1 0 0 0 0 1 0\n",
      " 0 0 0 0 1 0 0 3 0 0 2 0 1 1 3 2 3 0 3 0 0 0 0 2 0 1 0 0 0 1 0 0 1 0 0 0 0\n",
      " 0 0 0 0 0 0 1 2 1 3 0 1 0 0 2 0 0 0 0 0 1 0 1 1 0 0 1 0 0 0 0 0 0 2 0 0 1\n",
      " 0 0 0 0 0 2 0 1 0 0 0 1 3 1 0 3 0 2 2 2 0 0 0 0 2 0 2 1 0 0 1 0 0 0 0 1 1\n",
      " 1 0 0 1 0 1 0 3 0 1 1 0 0 0 1 0 0 0 0 0 1 0 1 0 0 0 0 0 0 0 0 0 0 3 0 0 0\n",
      " 2 0 0 1 2 0 0 0 0 0 1 3 0 0 0 0 0 0 0 2 0 1 1 0 3 2 0 0 0 1 0 0 0 1 0 1 0\n",
      " 1 0 0 0 0 0 0 1 0 1 0 3 1 3 0 0 0 1 1 0 0 0 1 1 1 0 0 0 1 0 0 3 0 0 0 3 2\n",
      " 1 0 1 0 0 0 0 3 0 0 0 0 1 0 2 1 3 0 1 0 1 0 2 0 0 0 0 1 3 0 3 0 0 0 0 0 0\n",
      " 0 0 0 0 0 1 2 0 0 0 1 0 0 1 0 0 0 3 0 2 0 2 2 0 0 0 0 0 0 0 0 0 1 0 0 0 0\n",
      " 0 1 2 2 0 0 0 0 3 1 1 0 1]\n",
      "0.7456647398843931\n"
     ]
    }
   ],
   "source": [
    "#KNN model\n",
    "knn = neighbors.KNeighborsClassifier(n_neighbors= 25, weights = 'uniform') \n",
    "\n",
    "# Spliting the data into traing and testing data\n",
    "X_train, X_test, y_train, y_test = train_test_split(X, y, test_size = 0.2)\n",
    "\n",
    "#Fitting the data\n",
    "knn.fit(X_train, y_train)\n",
    "\n",
    "#Making the prediction\n",
    "prediction  = knn.predict(X_test)\n",
    "\n",
    "#Testing the accuracy\n",
    "acc = metrics.accuracy_score(y_test, prediction)\n",
    "\n",
    "print(prediction)\n",
    "print(acc)\n"
   ]
  },
  {
   "cell_type": "code",
   "execution_count": null,
   "metadata": {},
   "outputs": [],
   "source": []
  },
  {
   "cell_type": "code",
   "execution_count": null,
   "metadata": {},
   "outputs": [],
   "source": []
  },
  {
   "cell_type": "code",
   "execution_count": null,
   "metadata": {},
   "outputs": [],
   "source": []
  }
 ],
 "metadata": {
  "kernelspec": {
   "display_name": "Python 3",
   "language": "python",
   "name": "python3"
  },
  "language_info": {
   "codemirror_mode": {
    "name": "ipython",
    "version": 3
   },
   "file_extension": ".py",
   "mimetype": "text/x-python",
   "name": "python",
   "nbconvert_exporter": "python",
   "pygments_lexer": "ipython3",
   "version": "3.7.6"
  }
 },
 "nbformat": 4,
 "nbformat_minor": 4
}
